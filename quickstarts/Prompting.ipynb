{
  "cells": [
    {
      "cell_type": "code",
      "source": [
        "import pandas as pd\n",
        "import warnings\n",
        "\n",
        "\n",
        "warnings.simplefilter(action=\"ignore\", category=FutureWarning)\n",
        "\n",
        "df = pd.read_csv(\"data.csv\")\n",
        "\n",
        "regions = [\"Алтайский край\", \"Тульская область\", \"Мурманская обл.\",\"Чувашская Республика\"] # <-- Сюда впиши указанные регионы в кавычках через запятую\n",
        "\n",
        "df = df[~df[\"region_name\"].isin(regions)]\n",
        "\n",
        "df = df.sort_values(by=[\"salary\"])\n",
        "\n",
        "first_x = 55 # <-- Сюда впиши индекс у первого X\n",
        "second_x = 66 # <-- Сюда впиши индекс у второго X\n",
        "third_x = 67 # <-- Сюда впиши индекс у третьего X\n",
        "\n",
        "print(f\"X_{first_x}: {df.iloc[first_x - 1, 1]}\")\n",
        "print(f\"X_{second_x}: {df.iloc[second_x - 1, 1]}\")\n",
        "print(f\"X_{third_x}: {df.iloc[third_x - 1, 1]}\")\n",
        "print(\"Выборочное среднее:\", round(df['salary'].mean().item(), 2))\n",
        "print(\"Выборочная медиана:\", round(df['salary'].median(), 1))"
      ],
      "metadata": {
        "id": "ASqy58GUHqBA",
        "outputId": "9cefa261-f176-4d23-b996-bfb5d54b55b9",
        "colab": {
          "base_uri": "https://localhost:8080/"
        }
      },
      "execution_count": 3,
      "outputs": [
        {
          "output_type": "stream",
          "name": "stdout",
          "text": [
            "X_55: 37867\n",
            "X_66: 44692\n",
            "X_67: 46583\n",
            "Выборочное среднее: 38984.9\n",
            "Выборочная медиана: 32973.0\n"
          ]
        }
      ]
    },
    {
      "cell_type": "code",
      "source": [
        "from google.colab import drive\n",
        "drive.mount('/content/drive')"
      ],
      "metadata": {
        "id": "17-jIZs2LmrK"
      },
      "execution_count": null,
      "outputs": []
    }
  ],
  "metadata": {
    "colab": {
      "name": "Prompting.ipynb",
      "provenance": []
    },
    "google": {
      "image_path": "/static/site-assets/images/docs/logo-python.svg",
      "keywords": [
        "examples",
        "gemini",
        "beginner",
        "googleai",
        "quickstart",
        "python",
        "text",
        "chat",
        "vision",
        "embed"
      ]
    },
    "kernelspec": {
      "display_name": "Python 3",
      "name": "python3"
    }
  },
  "nbformat": 4,
  "nbformat_minor": 0
}